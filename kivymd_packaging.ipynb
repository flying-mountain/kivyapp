{
  "cells": [
    {
      "cell_type": "markdown",
      "metadata": {
        "id": "BrNa7_D0d1Fg"
      },
      "source": [
        "## Step 1: Install some updates and packages vital for packaging"
      ]
    },
    {
      "cell_type": "code",
      "execution_count": null,
      "metadata": {
        "id": "0lFE3sf9Zf5J"
      },
      "outputs": [],
      "source": [
        "!sudo apt update\n",
        "!sudo apt install -y git zip unzip openjdk-17-jdk python3-pip autoconf libtool pkg-config zlib1g-dev libncurses5-dev libncursesw5-dev libtinfo5 cmake libffi-dev libssl-dev\n",
        "!pip3 install --user --upgrade Cython==0.29.33 virtualenv"
      ]
    },
    {
      "cell_type": "markdown",
      "metadata": {
        "id": "m4oRE4aPd61z"
      },
      "source": [
        "## Step 2: Install buildozer"
      ]
    },
    {
      "cell_type": "code",
      "execution_count": null,
      "metadata": {
        "id": "d-sEuwgXERB-"
      },
      "outputs": [],
      "source": [
        "# git clone, for working on buildozer\n",
        "!git clone https://github.com/kivy/buildozer\n",
        "%cd buildozer\n",
        "!python setup.py build\n",
        "!pip install -e .\n",
        "%cd .."
      ]
    },
    {
      "cell_type": "markdown",
      "metadata": {
        "id": "yOquTbGVeThV"
      },
      "source": [
        "## Step 3: Create the spec file\n",
        "\n",
        "Run the command below, a file name buildozer.spec will be created. Double click the file to edit it.\n",
        "You can edit the app name, package name and so forth.\n",
        "\n",
        "Scroll down to requirements, make sure they look as follows:\n",
        "requirements = python3, kivy==2.1.0, kivymd==1.1.1, sdl2_ttf==2.0.15, pillow\n",
        "\n",
        "You can also add app permissions if your application requires special permissions."
      ]
    },
    {
      "cell_type": "code",
      "execution_count": null,
      "metadata": {
        "id": "2bBaY_EOGFYu"
      },
      "outputs": [],
      "source": [
        "!buildozer init"
      ]
    },
    {
      "cell_type": "markdown",
      "metadata": {
        "id": "ZgG_zYRykvXy"
      },
      "source": [
        "# Step 4: Upload your files\n",
        "Upload the main.py file and all files associated with your application."
      ]
    },
    {
      "cell_type": "markdown",
      "metadata": {
        "id": "WBv6YbQefinq"
      },
      "source": [
        "## Step 5: Run buildozer.\n",
        "Make sure to accept the terms and conditions. The process could take up to 15 minutes so be patient."
      ]
    },
    {
      "cell_type": "code",
      "execution_count": null,
      "metadata": {
        "id": "Dse1GWYqGUqr"
      },
      "outputs": [],
      "source": [
        "!buildozer -v android debug"
      ]
    },
    {
      "cell_type": "code",
      "execution_count": null,
      "metadata": {
        "id": "9cZJHCPF6Dak"
      },
      "outputs": [],
      "source": [
        "!buildozer android clean"
      ]
    }
  ],
  "metadata": {
    "colab": {
      "provenance": []
    },
    "kernelspec": {
      "display_name": "Python 3",
      "name": "python3"
    },
    "language_info": {
      "name": "python"
    }
  },
  "nbformat": 4,
  "nbformat_minor": 0
}